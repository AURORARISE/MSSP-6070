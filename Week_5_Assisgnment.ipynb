{
  "nbformat": 4,
  "nbformat_minor": 0,
  "metadata": {
    "colab": {
      "provenance": [],
      "authorship_tag": "ABX9TyMBsojBsoHsQzZhzTkVnAhf",
      "include_colab_link": true
    },
    "kernelspec": {
      "name": "python3",
      "display_name": "Python 3"
    },
    "language_info": {
      "name": "python"
    }
  },
  "cells": [
    {
      "cell_type": "markdown",
      "metadata": {
        "id": "view-in-github",
        "colab_type": "text"
      },
      "source": [
        "<a href=\"https://colab.research.google.com/github/AURORARISE/MSSP-6070/blob/main/Week_5_Assisgnment.ipynb\" target=\"_parent\"><img src=\"https://colab.research.google.com/assets/colab-badge.svg\" alt=\"Open In Colab\"/></a>"
      ]
    },
    {
      "cell_type": "code",
      "execution_count": 50,
      "metadata": {
        "id": "uMbdXjB0aZ0x"
      },
      "outputs": [],
      "source": [
        "import pandas as pd\n",
        "from google.colab import drive"
      ]
    },
    {
      "cell_type": "code",
      "source": [
        "drive.mount('/content/drive')"
      ],
      "metadata": {
        "colab": {
          "base_uri": "https://localhost:8080/"
        },
        "id": "NZ0rVGTnhOCG",
        "outputId": "b0494dc0-a787-45a5-e0bc-98eb6bfa28a2"
      },
      "execution_count": 51,
      "outputs": [
        {
          "output_type": "stream",
          "name": "stdout",
          "text": [
            "Drive already mounted at /content/drive; to attempt to forcibly remount, call drive.mount(\"/content/drive\", force_remount=True).\n"
          ]
        }
      ]
    },
    {
      "cell_type": "code",
      "source": [
        "# 文件路径列表，根据你提供的路径修改\n",
        "files = [\n",
        "    '/content/drive/MyDrive/MSSP6070/c. Modules/Week_5/aapl.csv',\n",
        "    '/content/drive/MyDrive/MSSP6070/c. Modules/Week_5/amzn.csv',\n",
        "    '/content/drive/MyDrive/MSSP6070/c. Modules/Week_5/fb.csv',\n",
        "    '/content/drive/MyDrive/MSSP6070/c. Modules/Week_5/goog.csv',\n",
        "    '/content/drive/MyDrive/MSSP6070/c. Modules/Week_5/nflx.csv'\n",
        "]"
      ],
      "metadata": {
        "id": "JZ7s0E3hhOlz"
      },
      "execution_count": 52,
      "outputs": []
    },
    {
      "cell_type": "code",
      "source": [
        "dataframes = []"
      ],
      "metadata": {
        "id": "44cnvnrykAmo"
      },
      "execution_count": 53,
      "outputs": []
    },
    {
      "cell_type": "code",
      "source": [
        "for file in files:\n",
        "    ticker = file.split('/')[-1].split('.')[0].upper()\n",
        "    df = pd.read_csv(file)\n",
        "    df['ticker'] = ticker\n",
        "    dataframes.append(df)"
      ],
      "metadata": {
        "id": "x1fMqLEHkBW5"
      },
      "execution_count": 54,
      "outputs": []
    },
    {
      "cell_type": "code",
      "source": [
        "combined_df = pd.concat(dataframes, ignore_index=True)"
      ],
      "metadata": {
        "id": "e5iUL5XGfGdu"
      },
      "execution_count": 55,
      "outputs": []
    },
    {
      "cell_type": "code",
      "source": [
        "csv_path = '/content/drive/MyDrive/MSSP6070/c. Modules/Week_5/faanf.csv'\n",
        "combined_df.to_csv(csv_path, index=False)"
      ],
      "metadata": {
        "id": "55QOmOG1fIrx"
      },
      "execution_count": 56,
      "outputs": []
    },
    {
      "cell_type": "code",
      "source": [
        "df = pd.read_csv(csv_path)"
      ],
      "metadata": {
        "id": "8b_d8qmNfJKf"
      },
      "execution_count": 57,
      "outputs": []
    },
    {
      "cell_type": "code",
      "source": [
        "df['date'] = pd.to_datetime(df['date'])"
      ],
      "metadata": {
        "id": "NiZ7TgjTfMMz"
      },
      "execution_count": 58,
      "outputs": []
    },
    {
      "cell_type": "code",
      "source": [
        "df['volume'] = df['volume'].astype(int)"
      ],
      "metadata": {
        "id": "ssAOrIh-fOMy"
      },
      "execution_count": 59,
      "outputs": []
    },
    {
      "cell_type": "code",
      "source": [
        "df = df.sort_values(by=['date', 'ticker'])"
      ],
      "metadata": {
        "id": "bZE1PBtQfSC-"
      },
      "execution_count": 60,
      "outputs": []
    },
    {
      "cell_type": "code",
      "source": [
        "top_seven = df.nlargest(7, 'volume')"
      ],
      "metadata": {
        "id": "N09usTtbfVJm"
      },
      "execution_count": 61,
      "outputs": []
    },
    {
      "cell_type": "code",
      "source": [
        "melted_df = pd.melt(df, id_vars=['date', 'ticker'], var_name='variable', value_name='value')\n",
        "\n",
        "print('The top seven rows with the highest trading volume:')\n",
        "print(top_seven)\n",
        "print('The first few lines of data after melt:')\n",
        "print(melted_df.head())"
      ],
      "metadata": {
        "colab": {
          "base_uri": "https://localhost:8080/"
        },
        "id": "f5ptfaqcfW9Z",
        "outputId": "dbe194cb-9129-4ad1-a15f-fbbb2255e1c4"
      },
      "execution_count": 62,
      "outputs": [
        {
          "output_type": "stream",
          "name": "stdout",
          "text": [
            "The top seven rows with the highest trading volume:\n",
            "          date      open      high       low     close     volume ticker\n",
            "644 2018-07-26  174.8900  180.1300  173.7500  176.2600  169803668     FB\n",
            "555 2018-03-20  167.4700  170.2000  161.9500  168.1500  129851768     FB\n",
            "559 2018-03-26  160.8200  161.1000  149.0200  160.0600  126116634     FB\n",
            "556 2018-03-21  164.8000  173.4000  163.3000  169.3900  106598834     FB\n",
            "182 2018-09-21  219.0727  219.6482  215.6097  215.9768   96246748   AAPL\n",
            "245 2018-12-21  156.1901  157.4845  148.9909  150.0862   95744384   AAPL\n",
            "212 2018-11-02  207.9295  211.9978  203.8414  205.8755   91328654   AAPL\n",
            "The first few lines of data after melt:\n",
            "        date ticker variable      value\n",
            "0 2018-01-02   AAPL     open   166.9271\n",
            "1 2018-01-02   AMZN     open  1172.0000\n",
            "2 2018-01-02     FB     open   177.6800\n",
            "3 2018-01-02   GOOG     open  1048.3400\n",
            "4 2018-01-02   NFLX     open   196.1000\n"
          ]
        }
      ]
    }
  ]
}