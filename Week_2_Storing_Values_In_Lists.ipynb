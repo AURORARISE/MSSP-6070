{
  "nbformat": 4,
  "nbformat_minor": 0,
  "metadata": {
    "colab": {
      "provenance": [],
      "authorship_tag": "ABX9TyN3yc3IW2E0PvWW20zslyEG",
      "include_colab_link": true
    },
    "kernelspec": {
      "name": "python3",
      "display_name": "Python 3"
    },
    "language_info": {
      "name": "python"
    }
  },
  "cells": [
    {
      "cell_type": "markdown",
      "metadata": {
        "id": "view-in-github",
        "colab_type": "text"
      },
      "source": [
        "<a href=\"https://colab.research.google.com/github/AURORARISE/MSSP-6070/blob/main/Week_2_Storing_Values_In_Lists.ipynb\" target=\"_parent\"><img src=\"https://colab.research.google.com/assets/colab-badge.svg\" alt=\"Open In Colab\"/></a>"
      ]
    },
    {
      "cell_type": "code",
      "execution_count": null,
      "metadata": {
        "id": "oXryy6GGbKX1",
        "colab": {
          "base_uri": "https://localhost:8080/"
        },
        "outputId": "6ae0b58f-52e8-4cde-a344-b90ce3d0c3d2"
      },
      "outputs": [
        {
          "output_type": "execute_result",
          "data": {
            "text/plain": [
              "[2, 4, 'hello', 8, 10]"
            ]
          },
          "metadata": {},
          "execution_count": 3
        }
      ],
      "source": [
        "spam = [2, 4, 6, 8, 10]\n",
        "spam[2] = 'hello'\n",
        "spam"
      ]
    },
    {
      "cell_type": "code",
      "metadata": {
        "colab": {
          "base_uri": "https://localhost:8080/"
        },
        "id": "da592b8a",
        "outputId": "ac97ce11-361b-4481-baa0-105f3e0f77bd"
      },
      "source": [
        "letters = ['a', 'b', 'c', 'd']\n",
        "\n",
        "result_b = letters[int(int('3'*2)//11)]\n",
        "# Explanation: '3'*2 = '33'; int('33') = 33; 33 // 11 = 3; so index=3 -> 'd'\n",
        "\n",
        "result_c = letters[-1]\n",
        "# Explanation: -1 index means last element -> 'd'\n",
        "\n",
        "result_d = letters[:2]\n",
        "# Explanation: slice from start up to (not including) index 2 -> ['a', 'b']\n",
        "\n",
        "(result_b, result_c, result_d)"
      ],
      "execution_count": null,
      "outputs": [
        {
          "output_type": "execute_result",
          "data": {
            "text/plain": [
              "('d', 'd', ['a', 'b'])"
            ]
          },
          "metadata": {},
          "execution_count": 5
        }
      ]
    },
    {
      "cell_type": "code",
      "source": [
        "# Example list\n",
        "my_list = [1, 2, 3]\n",
        "# Convert list to tuple\n",
        "as_tuple = tuple(my_list)\n",
        "\n",
        "# Example tuple\n",
        "my_tuple = ('x', 'y', 'z')\n",
        "# Convert tuple to list\n",
        "as_list = list(my_tuple)\n",
        "\n",
        "(as_tuple, as_list)"
      ],
      "metadata": {
        "colab": {
          "base_uri": "https://localhost:8080/"
        },
        "id": "PcpGP2umcvyw",
        "outputId": "d9e2610c-b1ae-449d-9137-7937c855f23b"
      },
      "execution_count": null,
      "outputs": [
        {
          "output_type": "execute_result",
          "data": {
            "text/plain": [
              "((1, 2, 3), ['x', 'y', 'z'])"
            ]
          },
          "metadata": {},
          "execution_count": 6
        }
      ]
    },
    {
      "cell_type": "code",
      "source": [
        "def comma_code(items):\n",
        "    if len(items) == 0:\n",
        "        return ''\n",
        "    elif len(items) == 1:\n",
        "        return str(items[0])\n",
        "    else:\n",
        "        # Join all but last with ', ', then add ', and ' + last\n",
        "        return ', '.join(items[:-1]) + ', and ' + str(items[-1])\n",
        "\n",
        "# Example\n",
        "spam = ['apples', 'bananas', 'tofu', 'cats']\n",
        "print(comma_code(spam))"
      ],
      "metadata": {
        "colab": {
          "base_uri": "https://localhost:8080/"
        },
        "id": "cXtO5p9odc8M",
        "outputId": "a38969b6-a704-4f8f-b680-b3ca0b45f576"
      },
      "execution_count": null,
      "outputs": [
        {
          "output_type": "stream",
          "name": "stdout",
          "text": [
            "apples, bananas, tofu, and cats\n"
          ]
        }
      ]
    }
  ]
}