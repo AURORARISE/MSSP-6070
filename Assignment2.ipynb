{
  "nbformat": 4,
  "nbformat_minor": 0,
  "metadata": {
    "colab": {
      "provenance": [],
      "authorship_tag": "ABX9TyO9Hj9XTaISfCzQAWv00MmP",
      "include_colab_link": true
    },
    "kernelspec": {
      "name": "python3",
      "display_name": "Python 3"
    },
    "language_info": {
      "name": "python"
    }
  },
  "cells": [
    {
      "cell_type": "markdown",
      "metadata": {
        "id": "view-in-github",
        "colab_type": "text"
      },
      "source": [
        "<a href=\"https://colab.research.google.com/github/AURORARISE/MSSP-6070/blob/main/Assignment2.ipynb\" target=\"_parent\"><img src=\"https://colab.research.google.com/assets/colab-badge.svg\" alt=\"Open In Colab\"/></a>"
      ]
    },
    {
      "cell_type": "code",
      "execution_count": 23,
      "metadata": {
        "colab": {
          "base_uri": "https://localhost:8080/"
        },
        "id": "aMuAZcKhcWSR",
        "outputId": "1901be6f-f7d7-4929-b27b-1cc08f9886d9"
      },
      "outputs": [
        {
          "output_type": "stream",
          "name": "stdout",
          "text": [
            "Drive already mounted at /content/drive; to attempt to forcibly remount, call drive.mount(\"/content/drive\", force_remount=True).\n"
          ]
        }
      ],
      "source": [
        "from google.colab import drive\n",
        "drive.mount('/content/drive')"
      ]
    },
    {
      "cell_type": "code",
      "source": [
        "import pandas as pd\n",
        "import matplotlib.pyplot as plt\n",
        "%matplotlib inline\n",
        "file_path = \"/content/drive/MyDrive/MSSP6070/a. Assignments/Assignment2/InternetSales.csv\""
      ],
      "metadata": {
        "id": "G_cC1ZdmHfsM"
      },
      "execution_count": 24,
      "outputs": []
    },
    {
      "cell_type": "code",
      "source": [
        "df = pd.read_csv(file_path, encoding=\"latin1\")\n",
        "print(\"Shape:\", df.shape)"
      ],
      "metadata": {
        "colab": {
          "base_uri": "https://localhost:8080/"
        },
        "id": "AzxlUXc6Ht-I",
        "outputId": "5399fb90-6701-4549-af4e-ded97189e473"
      },
      "execution_count": 25,
      "outputs": [
        {
          "output_type": "stream",
          "name": "stdout",
          "text": [
            "Shape: (60398, 60)\n"
          ]
        },
        {
          "output_type": "stream",
          "name": "stderr",
          "text": [
            "/tmp/ipython-input-148197165.py:1: DtypeWarning: Columns (14) have mixed types. Specify dtype option on import or set low_memory=False.\n",
            "  df = pd.read_csv(file_path, encoding=\"latin1\")\n"
          ]
        }
      ]
    },
    {
      "cell_type": "code",
      "source": [
        "pd.set_option(\"display.max_columns\", 100)\n",
        "pd.set_option(\"display.width\", 160)\n",
        "print(df.columns)"
      ],
      "metadata": {
        "colab": {
          "base_uri": "https://localhost:8080/"
        },
        "id": "epew_dEGHxbr",
        "outputId": "6244d8ea-f4b5-4801-f302-6b4182af1ef7"
      },
      "execution_count": 26,
      "outputs": [
        {
          "output_type": "stream",
          "name": "stdout",
          "text": [
            "Index(['ID', 'CustomerKey', 'GeographyKey', 'City', 'CountryRegionCode', 'EnglishCountryRegionName', 'CustomerAlternateKey', 'Title', 'FirstName',\n",
            "       'MiddleName', 'LastName', 'NameStyle', 'BirthDate', 'MaritalStatus', 'Suffix', 'Gender', 'EmailAddress', 'YearlyIncome', 'TotalChildren',\n",
            "       'NumberChildrenAtHome', 'EnglishEducation', 'SpanishEducation', 'FrenchEducation', 'EnglishOccupation', 'SpanishOccupation', 'FrenchOccupation',\n",
            "       'HouseOwnerFlag', 'NumberCarsOwned', 'AddressLine1', 'AddressLine2', 'Phone', 'DateFirstPurchase', 'CommuteDistance', 'ProductKey',\n",
            "       'EnglishProductName', 'OrderDateKey', 'DueDateKey', 'ShipDateKey', 'CustomerKey.1', 'PromotionKey', 'CurrencyKey', 'SalesTerritoryKey',\n",
            "       'SalesOrderNumber', 'SalesOrderLineNumber', 'RevisionNumber', 'OrderQuantity', 'UnitPrice', 'ExtendedAmount', 'UnitPriceDiscountPct', 'DiscountAmount',\n",
            "       'ProductStandardCost', 'TotalProductCost', 'SalesAmount', 'TaxAmt', 'Freight', 'CarrierTrackingNumber', 'CustomerPONumber', 'OrderDate', 'DueDate',\n",
            "       'ShipDate'],\n",
            "      dtype='object')\n"
          ]
        }
      ]
    },
    {
      "cell_type": "code",
      "source": [
        "if \"EnglishCountryRegionName\" in df.columns:\n",
        "    country_col = \"EnglishCountryRegionName\"\n",
        "elif \"CountryRegionCode\" in df.columns:\n",
        "    country_col = \"CountryRegionCode\"\n",
        "else:\n",
        "    country_candidates = [c for c in df.columns if \"Country\" in c or \"Region\" in c]\n",
        "    country_col = country_candidates[0] if country_candidates else None\n",
        "\n",
        "date_col = \"OrderDate\"\n",
        "df[date_col] = pd.to_datetime(df[date_col], errors=\"coerce\")\n",
        "df[\"Year\"] = df[date_col].dt.year\n",
        "\n",
        "sales_col = \"SalesAmount\"\n",
        "income_col = \"YearlyIncome\" if \"YearlyIncome\" in df.columns else None\n",
        "gender_col = \"Gender\" if \"Gender\" in df.columns else None\n",
        "home_col = \"HouseOwnerFlag\" if \"HouseOwnerFlag\" in df.columns else None\n",
        "product_name_col = \"EnglishProductName\" if \"EnglishProductName\" in df.columns else None\n",
        "price_col = \"UnitPrice\" if \"UnitPrice\" in df.columns else None"
      ],
      "metadata": {
        "id": "3N8ZP1JgH5bK"
      },
      "execution_count": 27,
      "outputs": []
    },
    {
      "cell_type": "code",
      "source": [
        "if country_col is not None:\n",
        "    sales_by_year_country = (\n",
        "        df.dropna(subset=[sales_col, \"Year\", country_col])\n",
        "          .groupby([\"Year\", country_col])[sales_col]\n",
        "          .sum()\n",
        "          .reset_index()\n",
        "          .sort_values([\"Year\", country_col])\n",
        "    )\n",
        "\n",
        "    print(\"=== Internet Sales by Year and Country/Region ===\")\n",
        "    print(sales_by_year_country.head(40))"
      ],
      "metadata": {
        "colab": {
          "base_uri": "https://localhost:8080/"
        },
        "id": "UNN3penJICAr",
        "outputId": "fcf6dd3c-0135-48b6-8d09-987ca42714fa"
      },
      "execution_count": 28,
      "outputs": [
        {
          "output_type": "stream",
          "name": "stdout",
          "text": [
            "=== Internet Sales by Year and Country/Region ===\n",
            "    Year EnglishCountryRegionName   SalesAmount\n",
            "0   2010                Australia  2.090978e+04\n",
            "1   2010                   Canada  3.578270e+03\n",
            "2   2010                   France  3.399990e+03\n",
            "3   2010           United Kingdom  6.990982e+02\n",
            "4   2010            United States  1.483390e+04\n",
            "5   2011                Australia  2.563732e+06\n",
            "6   2011                   Canada  5.715718e+05\n",
            "7   2011                   France  4.108453e+05\n",
            "8   2011                  Germany  5.205002e+05\n",
            "9   2011           United Kingdom  5.505912e+05\n",
            "10  2011            United States  2.458285e+06\n",
            "11  2012                Australia  2.128407e+06\n",
            "12  2012                   Canada  3.076045e+05\n",
            "13  2012                   France  6.480655e+05\n",
            "14  2012                  Germany  6.086580e+05\n",
            "15  2012           United Kingdom  7.127010e+05\n",
            "16  2012            United States  1.437049e+06\n",
            "17  2013                Australia  4.339443e+06\n",
            "18  2013                   Canada  1.085633e+06\n",
            "19  2013                   France  1.578512e+06\n",
            "20  2013                  Germany  1.761876e+06\n",
            "21  2013           United Kingdom  2.124007e+06\n",
            "22  2013            United States  5.462079e+06\n",
            "23  2014                Australia  8.507720e+03\n",
            "24  2014                   Canada  9.457620e+03\n",
            "25  2014                   France  3.195060e+03\n",
            "26  2014                  Germany  3.277830e+03\n",
            "27  2014           United Kingdom  3.713640e+03\n",
            "28  2014            United States  1.754285e+04\n"
          ]
        }
      ]
    },
    {
      "cell_type": "code",
      "source": [
        "if country_col is not None:\n",
        "    sales_by_year_country = (\n",
        "        df.dropna(subset=[sales_col, \"Year\", country_col])\n",
        "          .groupby([\"Year\", country_col])[sales_col]\n",
        "          .sum()\n",
        "          .reset_index()\n",
        "          .sort_values([\"Year\", country_col])\n",
        "    )\n",
        "\n",
        "    print(\"=== Internet Sales by Year and Country/Region ===\")\n",
        "    print(sales_by_year_country.head(40))\n",
        "    pivot_sales = sales_by_year_country.pivot(index=\"Year\", columns=country_col, values=sales_col)\n",
        "    pivot_sales.plot(kind=\"bar\", figsize=(12, 6))\n",
        "    plt.title(\"Internet Sales by Year and Country/Region\")\n",
        "    plt.ylabel(\"SalesAmount\")\n",
        "    plt.tight_layout()\n",
        "    plt.show()\n",
        "\n",
        "else:\n",
        "    print(\"The country/region column cannot be found, so it cannot be summarized by country year.\")"
      ],
      "metadata": {
        "colab": {
          "base_uri": "https://localhost:8080/",
          "height": 1000
        },
        "id": "RN7vHG4TIEKE",
        "outputId": "2ae62a78-f632-4dae-b5ed-cddb4abcde7a"
      },
      "execution_count": 29,
      "outputs": [
        {
          "output_type": "stream",
          "name": "stdout",
          "text": [
            "=== Internet Sales by Year and Country/Region ===\n",
            "    Year EnglishCountryRegionName   SalesAmount\n",
            "0   2010                Australia  2.090978e+04\n",
            "1   2010                   Canada  3.578270e+03\n",
            "2   2010                   France  3.399990e+03\n",
            "3   2010           United Kingdom  6.990982e+02\n",
            "4   2010            United States  1.483390e+04\n",
            "5   2011                Australia  2.563732e+06\n",
            "6   2011                   Canada  5.715718e+05\n",
            "7   2011                   France  4.108453e+05\n",
            "8   2011                  Germany  5.205002e+05\n",
            "9   2011           United Kingdom  5.505912e+05\n",
            "10  2011            United States  2.458285e+06\n",
            "11  2012                Australia  2.128407e+06\n",
            "12  2012                   Canada  3.076045e+05\n",
            "13  2012                   France  6.480655e+05\n",
            "14  2012                  Germany  6.086580e+05\n",
            "15  2012           United Kingdom  7.127010e+05\n",
            "16  2012            United States  1.437049e+06\n",
            "17  2013                Australia  4.339443e+06\n",
            "18  2013                   Canada  1.085633e+06\n",
            "19  2013                   France  1.578512e+06\n",
            "20  2013                  Germany  1.761876e+06\n",
            "21  2013           United Kingdom  2.124007e+06\n",
            "22  2013            United States  5.462079e+06\n",
            "23  2014                Australia  8.507720e+03\n",
            "24  2014                   Canada  9.457620e+03\n",
            "25  2014                   France  3.195060e+03\n",
            "26  2014                  Germany  3.277830e+03\n",
            "27  2014           United Kingdom  3.713640e+03\n",
            "28  2014            United States  1.754285e+04\n"
          ]
        },
        {
          "output_type": "display_data",
          "data": {
            "text/plain": [
              "<Figure size 1200x600 with 1 Axes>"
            ],
            "image/png": "[encoded data removed]"
          },
          "metadata": {}
        }
      ]
    },
    {
      "cell_type": "code",
      "source": [
        "if income_col is not None and country_col is not None:\n",
        "    summary_income = (\n",
        "        df.groupby(country_col)[income_col]\n",
        "          .agg([\"count\", \"mean\", \"min\", \"max\", \"std\"])\n",
        "          .reset_index()\n",
        "    )\n",
        "    print(\"\\n=== Yearly Income Summary by Country/Region ===\")\n",
        "    print(summary_income)\n",
        "\n",
        "    if gender_col is not None:\n",
        "        summary_income_gender = (\n",
        "            df.groupby([country_col, gender_col])[income_col]\n",
        "              .agg([\"count\", \"mean\", \"min\", \"max\", \"std\"])\n",
        "              .reset_index()\n",
        "        )\n",
        "        print(\"\\n=== Yearly Income Summary by Country/Region and Gender ===\")\n",
        "        print(summary_income_gender.head(100))\n",
        "    else:\n",
        "        print(\"\\nThere is no Gender column, so we can only summarize by country.\")\n",
        "else:\n",
        "    print(\"Without YearlyIncome or Country columns, income statistics cannot be done.\")"
      ],
      "metadata": {
        "colab": {
          "base_uri": "https://localhost:8080/"
        },
        "id": "TUZYT3G6IOpF",
        "outputId": "64993e11-93e4-468a-a966-8768419be2bb"
      },
      "execution_count": 30,
      "outputs": [
        {
          "output_type": "stream",
          "name": "stdout",
          "text": [
            "\n",
            "=== Yearly Income Summary by Country/Region ===\n",
            "  EnglishCountryRegionName  count          mean    min     max           std\n",
            "0                Australia  13345  66238.291495  10000  170000  31604.953236\n",
            "1                   Canada   7620  60115.485564  10000  170000  21246.428705\n",
            "2                   France   5558  39586.182080  10000  110000  28542.194530\n",
            "3                  Germany   5625  47511.111111  10000  130000  37560.182991\n",
            "4           United Kingdom   6906  56139.588763  10000  170000  51043.678583\n",
            "5            United States  21344  65108.227136  10000  170000  26015.747104\n",
            "\n",
            "=== Yearly Income Summary by Country/Region and Gender ===\n",
            "   EnglishCountryRegionName Gender  count          mean    min     max           std\n",
            "0                 Australia      F   6685  67060.583396  10000  160000  30613.956169\n",
            "1                 Australia      M   6660  65412.912913  10000  170000  32550.778171\n",
            "2                    Canada      F   3648  58651.315789  10000  170000  19435.158438\n",
            "3                    Canada      M   3972  61460.221551  10000  170000  22702.851581\n",
            "4                    France      F   2781  39367.134124  10000  110000  28421.836245\n",
            "5                    France      M   2777  39805.545553  10000  110000  28665.660622\n",
            "6                   Germany      F   2820  48287.234043  10000  130000  37622.814569\n",
            "7                   Germany      M   2805  46730.837790  10000  130000  37487.619366\n",
            "8            United Kingdom      F   3401  56518.670979  10000  170000  51130.689140\n",
            "9            United Kingdom      M   3505  55771.754636  10000  170000  50963.707551\n",
            "10            United States      F  10682  64766.897585  10000  170000  25498.805483\n",
            "11            United States      M  10662  65450.196961  10000  170000  26520.348175\n"
          ]
        }
      ]
    },
    {
      "cell_type": "code",
      "source": [
        "if product_name_col is not None:\n",
        "    product_sales = (\n",
        "        df.groupby(product_name_col)[sales_col]\n",
        "          .sum()\n",
        "          .reset_index()\n",
        "          .sort_values(sales_col, ascending=False)\n",
        "    )\n",
        "\n",
        "    print(\"\\n=== Top 20 Products by Sales ===\")\n",
        "    print(product_sales.head(20))\n",
        "\n",
        "    top_product = product_sales.iloc[0][product_name_col]\n",
        "    print(\"\\nTop-selling product:\", top_product)\n",
        "\n",
        "    if price_col is not None:\n",
        "        avg_price_top_product = df[df[product_name_col] == top_product][price_col].mean()\n",
        "        print(f\"Average unit price for top-selling product: {avg_price_top_product:.2f}\")\n",
        "    else:\n",
        "        print(\"Without the column of Unit Price, the average price cannot be calculated.\")\n",
        "else:\n",
        "    print(\"Without the column of English Product Name, it cannot be considered which product sells the most.\")"
      ],
      "metadata": {
        "colab": {
          "base_uri": "https://localhost:8080/"
        },
        "id": "5O-OLNaEIehh",
        "outputId": "6aefc35a-1eea-4505-882a-d8b1aaf002e1"
      },
      "execution_count": 31,
      "outputs": [
        {
          "output_type": "stream",
          "name": "stdout",
          "text": [
            "\n",
            "=== Top 20 Products by Sales ===\n",
            "          EnglishProductName   SalesAmount\n",
            "34    Mountain-200 Black, 46  1.373470e+06\n",
            "33    Mountain-200 Black, 42  1.363142e+06\n",
            "35   Mountain-200 Silver, 38  1.339463e+06\n",
            "37   Mountain-200 Silver, 46  1.301100e+06\n",
            "32    Mountain-200 Black, 38  1.294866e+06\n",
            "36   Mountain-200 Silver, 42  1.257435e+06\n",
            "58          Road-150 Red, 48  1.205877e+06\n",
            "61          Road-150 Red, 62  1.202299e+06\n",
            "59          Road-150 Red, 52  1.080638e+06\n",
            "60          Road-150 Red, 56  1.055590e+06\n",
            "57          Road-150 Red, 44  1.005494e+06\n",
            "64        Road-250 Black, 52  7.344012e+05\n",
            "69          Road-250 Red, 58  7.026377e+05\n",
            "63        Road-250 Black, 48  6.912063e+05\n",
            "62        Road-250 Black, 44  6.283773e+05\n",
            "65        Road-250 Black, 58  6.220071e+05\n",
            "104    Touring-1000 Blue, 46  4.219804e+05\n",
            "70     Road-350-W Yellow, 40  4.184435e+05\n",
            "108  Touring-1000 Yellow, 46  4.100600e+05\n",
            "71     Road-350-W Yellow, 42  3.997327e+05\n",
            "\n",
            "Top-selling product: Mountain-200 Black, 46\n",
            "Average unit price for top-selling product: 2215.27\n"
          ]
        }
      ]
    },
    {
      "cell_type": "code",
      "source": [
        "if home_col is not None:\n",
        "    home_sales = (\n",
        "        df.groupby(home_col)[sales_col]\n",
        "          .agg([\"count\", \"sum\", \"mean\"])\n",
        "          .reset_index()\n",
        "    )\n",
        "    print(\"\\n=== Sales by Home Ownership ===\")\n",
        "    print(home_sales)\n",
        "    home_sales.plot(x=home_col, y=\"mean\", kind=\"bar\", figsize=(5, 4))\n",
        "    plt.title(\"Average SalesAmount by Home Ownership\")\n",
        "    plt.ylabel(\"Avg SalesAmount\")\n",
        "    plt.tight_layout()\n",
        "    plt.show()\n",
        "else:\n",
        "    print(\"Without the HouseOwnerFlag column, it is not possible to analyze the differences among homeowners.\")"
      ],
      "metadata": {
        "colab": {
          "base_uri": "https://localhost:8080/",
          "height": 500
        },
        "id": "7T59NKuyImZu",
        "outputId": "5c1961a7-4e94-4a00-82ba-268fed4b825c"
      },
      "execution_count": 32,
      "outputs": [
        {
          "output_type": "stream",
          "name": "stdout",
          "text": [
            "\n",
            "=== Sales by Home Ownership ===\n",
            "   HouseOwnerFlag  count           sum        mean\n",
            "0               0  18699  8.973327e+06  479.882744\n",
            "1               1  41699  2.038535e+07  488.869033\n"
          ]
        },
        {
          "output_type": "display_data",
          "data": {
            "text/plain": [
              "<Figure size 500x400 with 1 Axes>"
            ],
            "image/png": "[encoded data removed]"
          },
          "metadata": {}
        }
      ]
    }
  ]
}