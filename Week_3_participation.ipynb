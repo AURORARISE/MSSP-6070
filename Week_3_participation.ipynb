{
  "nbformat": 4,
  "nbformat_minor": 0,
  "metadata": {
    "colab": {
      "provenance": [],
      "authorship_tag": "ABX9TyOwxYtCVMMA6LA/WeYkOQPs",
      "include_colab_link": true
    },
    "kernelspec": {
      "name": "python3",
      "display_name": "Python 3"
    },
    "language_info": {
      "name": "python"
    }
  },
  "cells": [
    {
      "cell_type": "markdown",
      "metadata": {
        "id": "view-in-github",
        "colab_type": "text"
      },
      "source": [
        "<a href=\"https://colab.research.google.com/github/AURORARISE/MSSP-6070/blob/main/Week_3_participation.ipynb\" target=\"_parent\"><img src=\"https://colab.research.google.com/assets/colab-badge.svg\" alt=\"Open In Colab\"/></a>"
      ]
    },
    {
      "cell_type": "markdown",
      "source": [
        "When does the code in a function execute: when the function is defined or called?\n",
        "The code inside a function runs only when the function is called, not when it is defined."
      ],
      "metadata": {
        "id": "Rxud-lcvxn8v"
      }
    },
    {
      "cell_type": "markdown",
      "source": [
        "How many global scopes are there in a Python program? How many local scopes?\n",
        "Global scopes are one in each module, while local scopes are created dynamically, one for each function call,so there can be many."
      ],
      "metadata": {
        "id": "dx5dbJlLxu5W"
      }
    },
    {
      "cell_type": "markdown",
      "source": [
        "What happens to variables in a local scope when the function call returns?\n",
        "Normally, local variables are destroyed when the function returns. They survive only if something (like a closure) still holds a reference to them."
      ],
      "metadata": {
        "id": "vtoE5b4axxHo"
      }
    },
    {
      "cell_type": "markdown",
      "source": [
        "How can you prevent a program from crashing when it gets an error?\n",
        "To stop a Python program from crashing, wrap risky code in a try/except block and handle exceptions properly."
      ],
      "metadata": {
        "id": "8Ncre5iPxzJK"
      }
    },
    {
      "cell_type": "code",
      "source": [
        "def collatz(number):\n",
        "    if number % 2 == 0:\n",
        "        result = number // 2\n",
        "    else:\n",
        "        result = 3 * number + 1\n",
        "    print(result)\n",
        "    return result\n",
        "\n",
        "def main():\n",
        "    while True:\n",
        "        try:\n",
        "            n = int(input(\"Enter number: \"))\n",
        "            break\n",
        "        except ValueError:\n",
        "            print(\"Invalid input. Please enter an integer.\")\n",
        "\n",
        "    while n != 1:\n",
        "        n = collatz(n)\n",
        "\n",
        "if __name__ == \"__main__\":\n",
        "    main()\n"
      ],
      "metadata": {
        "colab": {
          "base_uri": "https://localhost:8080/"
        },
        "id": "bMQTjD-kd2kw",
        "outputId": "ee9af59f-5b75-4de9-ef71-78a6d6012adc"
      },
      "execution_count": 4,
      "outputs": [
        {
          "output_type": "stream",
          "name": "stdout",
          "text": [
            "Enter number: 3\n",
            "10\n",
            "5\n",
            "16\n",
            "8\n",
            "4\n",
            "2\n",
            "1\n"
          ]
        }
      ]
    }
  ]
}